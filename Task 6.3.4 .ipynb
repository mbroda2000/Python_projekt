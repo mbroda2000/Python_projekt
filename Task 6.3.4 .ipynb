{
  "nbformat": 4,
  "nbformat_minor": 0,
  "metadata": {
    "colab": {
      "provenance": [],
      "authorship_tag": "ABX9TyPGRDXn86P1w8ZwfFMegOtZ",
      "include_colab_link": true
    },
    "kernelspec": {
      "name": "python3",
      "display_name": "Python 3"
    },
    "language_info": {
      "name": "python"
    }
  },
  "cells": [
    {
      "cell_type": "markdown",
      "metadata": {
        "id": "view-in-github",
        "colab_type": "text"
      },
      "source": [
        "<a href=\"https://colab.research.google.com/github/mbroda2000/Python_projekt/blob/maciek/Task%206.3.4%20.ipynb\" target=\"_parent\"><img src=\"https://colab.research.google.com/assets/colab-badge.svg\" alt=\"Open In Colab\"/></a>"
      ]
    },
    {
      "cell_type": "markdown",
      "source": [
        "1. We can highlight few clear corelations between certain features.\n",
        "\n",
        "* European and Anglo-Saxon countries around the world provide highest salaries.\n",
        "* People with most rapid self-development ( ratio between Years Code and Years Code Pro ) earn the highest salaries.\n",
        "* With higher academical degree comes faster self-development process wchich results in higher salaries.\n",
        "* Younger people tend to gain experience and become pro coder faster than those older than 35."
      ],
      "metadata": {
        "id": "RwbFtDIqW2s6"
      }
    },
    {
      "cell_type": "markdown",
      "source": [],
      "metadata": {
        "id": "czcc_szMW0U7"
      }
    },
    {
      "cell_type": "markdown",
      "source": [
        "Above corelations however silly it might sound corelate between each other on deeper level. Richest countries like the european and anglo-saxon ones can provide young generation with high level of education and guarantee facilities that will secure ease in gaining experience and skills. As a consequence industry invest in facilities in those countries wchich give young people perspectives and broades their horizons on career path. This implicates that people living in those countries are going to have highest degree and highest possible salaries in DEV industry."
      ],
      "metadata": {
        "id": "LehPNASHbCBe"
      }
    }
  ]
}