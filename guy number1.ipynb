{
  "nbformat": 4,
  "nbformat_minor": 0,
  "metadata": {
    "colab": {
      "provenance": [],
      "authorship_tag": "ABX9TyPZuyCe2XJ2AhM8/LZ5vYvL",
      "include_colab_link": true
    },
    "kernelspec": {
      "name": "python3",
      "display_name": "Python 3"
    },
    "language_info": {
      "name": "python"
    }
  },
  "cells": [
    {
      "cell_type": "markdown",
      "metadata": {
        "id": "view-in-github",
        "colab_type": "text"
      },
      "source": [
        "<a href=\"https://colab.research.google.com/github/mbroda2000/Python_projekt/blob/michal/guy%20number1.ipynb\" target=\"_parent\"><img src=\"https://colab.research.google.com/assets/colab-badge.svg\" alt=\"Open In Colab\"/></a>"
      ]
    },
    {
      "cell_type": "markdown",
      "source": [
        "1. he divided how many people from the data have an eployment and how many is not\n",
        "2. he create histogram showing how many peoples have with yearcode,yearsCodePro, PreviousSalary, CounterSkill\n",
        "3. Show how many peole have low than >35 Years old\n",
        "4. show how many people is: Man, Woman and non binary\n",
        "5. Show how many people haven't got MentalHealth\n",
        "6. Show how many peoples is Dev and NotDev\n",
        "7. Show how many people in this data have itch EdLev\n",
        "8. He show how many difirent coutry is in this data\n",
        "9. show how many employees is in each country"
      ],
      "metadata": {
        "id": "afEEk0MROEr-"
      }
    },
    {
      "cell_type": "code",
      "execution_count": null,
      "metadata": {
        "id": "CLQB70k3NWPy"
      },
      "outputs": [],
      "source": []
    }
  ]
}