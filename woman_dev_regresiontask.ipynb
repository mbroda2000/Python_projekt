{
  "nbformat": 4,
  "nbformat_minor": 0,
  "metadata": {
    "colab": {
      "provenance": [],
      "authorship_tag": "ABX9TyNDb4/NhCsT/vGc5Z2Kg5xL",
      "include_colab_link": true
    },
    "kernelspec": {
      "name": "python3",
      "display_name": "Python 3"
    },
    "language_info": {
      "name": "python"
    }
  },
  "cells": [
    {
      "cell_type": "markdown",
      "metadata": {
        "id": "view-in-github",
        "colab_type": "text"
      },
      "source": [
        "<a href=\"https://colab.research.google.com/github/mbroda2000/Python_projekt/blob/michal/woman_dev_regresiontask.ipynb\" target=\"_parent\"><img src=\"https://colab.research.google.com/assets/colab-badge.svg\" alt=\"Open In Colab\"/></a>"
      ]
    },
    {
      "cell_type": "code",
      "execution_count": 1,
      "metadata": {
        "colab": {
          "base_uri": "https://localhost:8080/"
        },
        "id": "Gq8DuaZWmjWI",
        "outputId": "9279f7b3-3270-419a-e408-e3e69f1521fd"
      },
      "outputs": [
        {
          "output_type": "stream",
          "name": "stdout",
          "text": [
            "Mounted at /content/drive\n"
          ]
        }
      ],
      "source": [
        "from google.colab import drive\n",
        "drive.mount('/content/drive')"
      ]
    },
    {
      "cell_type": "code",
      "source": [
        "import pandas as pd\n",
        "data = pd.read_csv('drive/MyDrive/Data_ML.csv')"
      ],
      "metadata": {
        "id": "mQboQwfvmuH-"
      },
      "execution_count": 2,
      "outputs": []
    },
    {
      "cell_type": "code",
      "source": [
        "import pandas as pd\n",
        "\n",
        "new_data = data.copy()\n",
        "new_data = new_data.drop('Unnamed: 0', axis=1)\n",
        "new_data =new_data.drop('HaveWorkedWith', axis=1) # droping unnessesery datas\n",
        "\n",
        "# Transformation of 'age'(1-age>35, 0-age<=35)\n",
        "new_data['Age'] = (data['Age'] == '>35')\n",
        "\n",
        "# Transformation of 'Accessibility' (1-Yes, 0-No)\n",
        "new_data['Accessibility'] = (data['Accessibility'] == 'Yes')\n",
        "\n",
        "# Transformation of 'EdLevel'\n",
        "ed_level_mapping = {'Master': 1, 'Undergraduate': 2, 'PhD': 3, \"NoHigherEd\":0,  'Other': 4}\n",
        "new_data['EdLevel'] = data['EdLevel'].map(ed_level_mapping)\n",
        "\n",
        "# Transformation of 'Employment' (1-employed, 0-not employed)\n",
        "new_data['Employment'] = (data['Employment'] == 1)\n",
        "\n",
        "# Transformation of 'Gender'\n",
        "gender_mapping = {'Man': 1, 'Woman': 2, 'Nonbinary': 0}\n",
        "new_data['Gender'] = data['Gender'].map(gender_mapping)\n",
        "\n",
        "# Transformation of'MentalHealth' (1-Yes, 0-No)\n",
        "new_data['MentalHealth'] = (data['MentalHealth'] == 'Yes')\n",
        "\n",
        "# Transformation of 'MainBranch'(1-Dev, 0-NotDev)\n",
        "new_data['MainBranch'] = (data['MainBranch'] == 'Dev')\n",
        "\n",
        "\n",
        "\n",
        "\n",
        "# Transformation of 'Employed'(1-Employed, 0-Not Employed)\n",
        "new_data['Employed'] = data['Employed']\n",
        "\n",
        "print(new_data)"
      ],
      "metadata": {
        "colab": {
          "base_uri": "https://localhost:8080/"
        },
        "id": "IAAdgK9Cmx2H",
        "outputId": "0f879c91-b5ca-498c-e55f-f179a83a59a1"
      },
      "execution_count": 3,
      "outputs": [
        {
          "output_type": "stream",
          "name": "stdout",
          "text": [
            "         Age  Accessibility  EdLevel  Employment  Gender  MentalHealth  \\\n",
            "0      False          False        1        True     1.0         False   \n",
            "1      False          False        2        True     1.0         False   \n",
            "2      False          False        1        True     1.0         False   \n",
            "3      False          False        2        True     1.0         False   \n",
            "4       True          False        3       False     1.0         False   \n",
            "...      ...            ...      ...         ...     ...           ...   \n",
            "73457  False          False        2        True     1.0         False   \n",
            "73458   True          False        2        True     1.0         False   \n",
            "73459  False          False        2        True     1.0         False   \n",
            "73460  False           True        2        True     1.0          True   \n",
            "73461  False          False        1        True     NaN         False   \n",
            "\n",
            "       MainBranch  YearsCode  YearsCodePro  \\\n",
            "0            True          7             4   \n",
            "1            True         12             5   \n",
            "2            True         15             6   \n",
            "3            True          9             6   \n",
            "4           False         40            30   \n",
            "...           ...        ...           ...   \n",
            "73457        True          7             2   \n",
            "73458        True         21            16   \n",
            "73459        True          4             3   \n",
            "73460        True          5             1   \n",
            "73461        True         10             3   \n",
            "\n",
            "                                                 Country  PreviousSalary  \\\n",
            "0                                                 Sweden         51552.0   \n",
            "1                                                  Spain         46482.0   \n",
            "2                                                Germany         77290.0   \n",
            "3                                                 Canada         46135.0   \n",
            "4                                              Singapore        160932.0   \n",
            "...                                                  ...             ...   \n",
            "73457                                            Germany         41058.0   \n",
            "73458                           United States of America        115000.0   \n",
            "73459                                            Nigeria         57720.0   \n",
            "73460                           United States of America         70000.0   \n",
            "73461  United Kingdom of Great Britain and Northern I...         75384.0   \n",
            "\n",
            "       ComputerSkills  Employed  \n",
            "0                   4         0  \n",
            "1                  12         1  \n",
            "2                   7         0  \n",
            "3                  13         0  \n",
            "4                   2         0  \n",
            "...               ...       ...  \n",
            "73457              13         1  \n",
            "73458              11         1  \n",
            "73459              12         1  \n",
            "73460              15         1  \n",
            "73461               2         0  \n",
            "\n",
            "[73462 rows x 13 columns]\n"
          ]
        }
      ]
    },
    {
      "cell_type": "code",
      "source": [
        "import numpy as np\n",
        "\n",
        "\n",
        "new_data = new_data[new_data['Gender'] != 0]\n",
        "\n",
        "filtred_data = new_data.drop(['Age', 'Accessibility', 'Employment', 'MentalHealth', 'Employed'], axis=1)\n",
        "\n",
        "countries = [\n",
        "    'Australia', 'Austria', 'Belgium', 'Canada', 'Denmark', 'Finland', 'France',\n",
        "    'Germany', 'Hong Kong', 'Iceland', 'Ireland', 'Israel', 'Japan', 'Liechtenstein',\n",
        "    'Luxembourg', 'Malta', 'Netherlands', 'New Zealand', 'Norway', 'Singapore',\n",
        "    'Slovenia', 'South Korea', 'Spain', 'Sweden', 'Switzerland', 'United Arab Emirates',\n",
        "    'United Kingdom of Great Britain and Northern Ireland', 'United States of America', 'Italy', 'Czech Republic', 'Slovakia',\n",
        "    'Greece', 'Taiwan', 'Hong Kong', 'Croatia', 'Cyprus', 'Latvia', 'Lithuania', 'Estonia'\n",
        "]\n"
      ],
      "metadata": {
        "id": "WqCb1lehm0OG"
      },
      "execution_count": 4,
      "outputs": []
    },
    {
      "cell_type": "code",
      "source": [
        "filtred_data['developed'] = filtred_data['Country'].isin(countries)\n",
        "\n",
        "filtred_data = filtred_data.drop('Country', axis=1)\n",
        "data_woman=filtred_data[filtred_data['Gender'] == 2]\n",
        "\n",
        "data_dev_woman=data_woman[data_woman['developed']== True]\n",
        "data_ndev_woman=data_woman[data_woman['developed']== False]"
      ],
      "metadata": {
        "id": "jYgfYwUdm5NO"
      },
      "execution_count": 5,
      "outputs": []
    },
    {
      "cell_type": "markdown",
      "source": [
        "Linear regresor for Women_dev\n",
        "\n",
        "We can see the linear regresion is very very bad"
      ],
      "metadata": {
        "id": "qWzbohzwqtep"
      }
    },
    {
      "cell_type": "code",
      "source": [
        "PreviousSalary =data_dev_woman['PreviousSalary']\n",
        "\n",
        "x_train, x_val, x_test = np.split(data_dev_woman.sample(frac=1, random_state = 20), [int(.6*len(data_dev_woman)),int(.8*len(data_dev_woman))])\n",
        "y_train, y_val, y_test = np.split(PreviousSalary.sample(frac=1, random_state = 20),[int(.6*len(PreviousSalary)),int(.8*len(PreviousSalary))])"
      ],
      "metadata": {
        "id": "Y1vOfYxrpBDz"
      },
      "execution_count": 6,
      "outputs": []
    },
    {
      "cell_type": "code",
      "source": [
        "\n",
        "from sklearn.linear_model import LinearRegression\n",
        "from sklearn.model_selection import train_test_split\n",
        "from sklearn.linear_model import LogisticRegression\n",
        "from sklearn.metrics import accuracy_score\n",
        "import numpy as np\n",
        "\n",
        "\n",
        "import pandas as pd\n",
        "\n",
        "\n",
        "reg = LinearRegression()\n",
        "reg.fit(x_train, y_train)\n",
        "\n",
        "\n",
        "y_pred_train = reg.predict(x_train)\n",
        "y_pred_val = reg.predict(x_val)\n",
        "\n",
        "# RMSE for Training Set: 0.6435674112932498             RMSE for Validation Set: 0.6263352470201122\n",
        "\n",
        "rmse_train = np.sqrt(np.mean((y_pred_train - y_train)**2))\n",
        "rmse_val = np.sqrt(np.mean((y_pred_val - y_val)**2))\n",
        "\n",
        "\n",
        "print(f\"RMSE for Training: {rmse_train}\")\n",
        "print(f\"RMSE for Validation : {rmse_val}\")"
      ],
      "metadata": {
        "colab": {
          "base_uri": "https://localhost:8080/"
        },
        "id": "QrtYf7L_oRyM",
        "outputId": "b9655d18-39c4-4df6-891a-91e6d07d0e57"
      },
      "execution_count": 10,
      "outputs": [
        {
          "output_type": "stream",
          "name": "stdout",
          "text": [
            "RMSE for Training: 2.6078099599430364e-11\n",
            "RMSE for Validation : 2.5555814790579374e-11\n"
          ]
        }
      ]
    },
    {
      "cell_type": "markdown",
      "source": [
        "Linear regresor for Women_ndev\n",
        "\n",
        "We can see the linear regresion is also bad and its worst than ndev"
      ],
      "metadata": {
        "id": "8q2kff3NrAc5"
      }
    },
    {
      "cell_type": "code",
      "source": [
        "PreviousSalary =data_ndev_woman['PreviousSalary']\n",
        "\n",
        "x_train, x_val, x_test = np.split(data_ndev_woman.sample(frac=1, random_state = 20), [int(.6*len(data_ndev_woman)),int(.8*len(data_ndev_woman))])\n",
        "y_train, y_val, y_test = np.split(PreviousSalary.sample(frac=1, random_state = 20),[int(.6*len(PreviousSalary)),int(.8*len(PreviousSalary))])"
      ],
      "metadata": {
        "id": "vZLUzvLgqY4J"
      },
      "execution_count": 11,
      "outputs": []
    },
    {
      "cell_type": "code",
      "source": [
        "from sklearn.linear_model import LinearRegression\n",
        "from sklearn.model_selection import train_test_split\n",
        "from sklearn.linear_model import LogisticRegression\n",
        "from sklearn.metrics import accuracy_score\n",
        "import numpy as np\n",
        "\n",
        "\n",
        "import pandas as pd\n",
        "\n",
        "\n",
        "reg = LinearRegression()\n",
        "reg.fit(x_train, y_train)\n",
        "\n",
        "\n",
        "y_pred_train = reg.predict(x_train)\n",
        "y_pred_val = reg.predict(x_val)\n",
        "\n",
        "# RMSE for Training Set: 0.6435674112932498             RMSE for Validation Set: 0.6263352470201122\n",
        "\n",
        "rmse_train = np.sqrt(np.mean((y_pred_train - y_train)**2))\n",
        "rmse_val = np.sqrt(np.mean((y_pred_val - y_val)**2))\n",
        "\n",
        "\n",
        "print(f\"RMSE for Training: {rmse_train}\")\n",
        "print(f\"RMSE for Validation : {rmse_val}\")"
      ],
      "metadata": {
        "colab": {
          "base_uri": "https://localhost:8080/"
        },
        "id": "v7rKxHwQqnHx",
        "outputId": "4605e2c8-e2ed-42f9-98a0-92a8f3fccb84"
      },
      "execution_count": 12,
      "outputs": [
        {
          "output_type": "stream",
          "name": "stdout",
          "text": [
            "RMSE for Training: 9.190149437889767e-12\n",
            "RMSE for Validation : 8.63846224602844e-12\n"
          ]
        }
      ]
    },
    {
      "cell_type": "markdown",
      "source": [
        "Neural network regresor for Women_dev"
      ],
      "metadata": {
        "id": "C07yYebitHOF"
      }
    },
    {
      "cell_type": "code",
      "source": [
        "PreviousSalary =data_dev_woman['PreviousSalary']\n",
        "\n",
        "x_train, x_val, x_test = np.split(data_dev_woman.sample(frac=1, random_state = 20), [int(.6*len(data_dev_woman)),int(.8*len(data_dev_woman))])\n",
        "y_train, y_val, y_test = np.split(PreviousSalary.sample(frac=1, random_state = 20),[int(.6*len(PreviousSalary)),int(.8*len(PreviousSalary))])"
      ],
      "metadata": {
        "id": "tCHt1dittTFc"
      },
      "execution_count": null,
      "outputs": []
    }
  ]
}